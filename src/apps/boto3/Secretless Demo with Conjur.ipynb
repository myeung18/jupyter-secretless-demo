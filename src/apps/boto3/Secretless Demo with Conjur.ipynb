{
 "cells": [
  {
   "cell_type": "code",
   "execution_count": null,
   "id": "fbfc0c1f",
   "metadata": {},
   "outputs": [],
   "source": [
    "import boto3\n",
    "import os\n",
    "from botocore.config import Config\n",
    "\n",
    "def s3_client():\n",
    "    # connect to Secretless Broker for Credentials.\n",
    "    s3 = boto3.client('s3',\n",
    "                      aws_access_key_id=\"secretless\",\n",
    "                      region_name=\"us-east-1\",\n",
    "                      aws_secret_access_key=\"secretless\",\n",
    "                      endpoint_url=\"http://secretless.empty\",\n",
    "                      config=Config(proxies={'http': 'http://localhost:8099'}))\n",
    "    return s3\n"
   ]
  },
  {
   "cell_type": "code",
   "execution_count": null,
   "metadata": {},
   "outputs": [],
   "source": [
    "def list_buckets():\n",
    "    bck_rep = s3_client().list_buckets()\n",
    "    for buck in bck_rep[\"Buckets\"]:\n",
    "        print(buck)"
   ]
  },
  {
   "cell_type": "code",
   "execution_count": null,
   "id": "323658ad",
   "metadata": {},
   "outputs": [],
   "source": [
    "\n",
    "if __name__ == '__main__':\n",
    "    list_buckets()\n"
   ]
  }
 ],
 "metadata": {
  "kernelspec": {
   "display_name": "Python 3 (ipykernel)",
   "language": "python",
   "name": "python3"
  },
  "language_info": {
   "codemirror_mode": {
    "name": "ipython",
    "version": 3
   },
   "file_extension": ".py",
   "mimetype": "text/x-python",
   "name": "python",
   "nbconvert_exporter": "python",
   "pygments_lexer": "ipython3",
   "version": "3.9.7"
  }
 },
 "nbformat": 4,
 "nbformat_minor": 5
}
