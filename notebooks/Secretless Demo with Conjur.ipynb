{
 "cells": [
  {
   "cell_type": "markdown",
   "id": "15357ee6",
   "metadata": {},
   "source": [
    "####### run some code"
   ]
  },
  {
   "cell_type": "code",
   "execution_count": 1,
   "id": "fbfc0c1f",
   "metadata": {},
   "outputs": [],
   "source": [
    "import boto3\n",
    "import os\n",
    "from botocore.config import Config\n",
    "\n",
    "\n",
    "def s3_client():\n",
    "    s3 = boto3.client('s3',\n",
    "                      aws_access_key_id=\"secretless\",\n",
    "                      region_name=\"us-east-1\",\n",
    "                      aws_secret_access_key=\"secretless\",\n",
    "                      endpoint_url=\"http://secretless.empty\",\n",
    "                      config=Config(proxies={'http': 'http://localhost:8099'}))\n",
    "    return s3\n"
   ]
  },
  {
   "cell_type": "code",
   "execution_count": 2,
   "id": "071beca5",
   "metadata": {},
   "outputs": [],
   "source": [
    "def list_buckets():\n",
    "    bck_rep = s3_client().list_buckets()\n",
    "    for buck in bck_rep[\"Buckets\"]:\n",
    "        print(buck)"
   ]
  },
  {
   "cell_type": "code",
   "execution_count": 3,
   "id": "323658ad",
   "metadata": {},
   "outputs": [
    {
     "name": "stdout",
     "output_type": "stream",
     "text": [
      "{'Name': 'book2021', 'CreationDate': datetime.datetime(2021, 10, 17, 21, 57, 39, tzinfo=tzutc())}\n",
      "{'Name': 'bookttttt', 'CreationDate': datetime.datetime(2021, 10, 17, 22, 26, 52, tzinfo=tzutc())}\n",
      "{'Name': 'iampolobucket', 'CreationDate': datetime.datetime(2017, 2, 19, 16, 47, 24, tzinfo=tzutc())}\n",
      "{'Name': 'testbug-os', 'CreationDate': datetime.datetime(2021, 10, 16, 18, 55, 19, tzinfo=tzutc())}\n",
      "user in hub =  myeung\n"
     ]
    }
   ],
   "source": [
    "\n",
    "if __name__ == '__main__':\n",
    "    # create_bucket()\n",
    "    list_buckets()\n",
    "    print(\"user in hub = \", os.getenv('JUPYTERHUB_USER'))\n"
   ]
  },
  {
   "cell_type": "code",
   "execution_count": null,
   "id": "a5e4afda",
   "metadata": {},
   "outputs": [],
   "source": [
    "\n"
   ]
  },
  {
   "cell_type": "code",
   "execution_count": null,
   "id": "f7970ad3",
   "metadata": {},
   "outputs": [],
   "source": []
  }
 ],
 "metadata": {
  "kernelspec": {
   "display_name": "Python 3 (ipykernel)",
   "language": "python",
   "name": "python3"
  },
  "language_info": {
   "codemirror_mode": {
    "name": "ipython",
    "version": 3
   },
   "file_extension": ".py",
   "mimetype": "text/x-python",
   "name": "python",
   "nbconvert_exporter": "python",
   "pygments_lexer": "ipython3",
   "version": "3.9.7"
  }
 },
 "nbformat": 4,
 "nbformat_minor": 5
}
